{
 "cells": [
  {
   "cell_type": "code",
   "execution_count": 21,
   "id": "c7848f22-e50b-41db-bdbd-efc2792be62d",
   "metadata": {},
   "outputs": [
    {
     "name": "stdout",
     "output_type": "stream",
     "text": [
      "✅ Model training complete and saved!\n"
     ]
    }
   ],
   "source": [
    "import pandas as pd\n",
    "import numpy as np\n",
    "from sklearn.model_selection import train_test_split\n",
    "from sklearn.preprocessing import StandardScaler\n",
    "from sklearn.ensemble import RandomForestClassifier\n",
    "from sklearn.metrics import accuracy_score, classification_report\n",
    "from imblearn.over_sampling import SMOTE\n",
    "import joblib\n",
    "\n",
    "# Load dataset\n",
    "file_path = \"new.csv\"\n",
    "df = pd.read_csv(file_path)\n",
    "\n",
    "# Select features and target\n",
    "X = df.drop(columns=['Class'])\n",
    "y = df['Class']\n",
    "\n",
    "\n",
    "\n",
    "# Normalize numerical values\n",
    "scaler = StandardScaler()\n",
    "X_scaled = scaler.fit_transform(X)\n",
    "# print(X_scaled)\n",
    "\n",
    "# # Split data into training and testing sets\n",
    "X_train, X_test, y_train, y_test = train_test_split(X_scaled, y, test_size=0.2, random_state=42, stratify=y)\n",
    "\n",
    "X_train_6 = X_train[:, :6]  # Select the first 6 columns\n",
    "\n",
    "\n",
    "# # Apply SMOTE to balance classes\n",
    "smote = SMOTE(random_state=42)\n",
    "X_resampled, y_resampled = smote.fit_resample(X_train_6, y_train)\n",
    "\n",
    "# # Train model\n",
    "model = RandomForestClassifier(n_estimators=10, max_depth=10, random_state=42, n_jobs=1)\n",
    "model.fit(X_resampled, y_resampled)\n",
    "\n",
    "# # Save model\n",
    "joblib.dump(model, \"fraud_detection_model.joblib\")\n",
    "print(\"✅ Model training complete and saved!\")\n",
    "# python -m uvicorn main:app --reload"
   ]
  },
  {
   "cell_type": "code",
   "execution_count": null,
   "id": "ce7c76a7-416f-4098-bcf7-8510a6c705b1",
   "metadata": {},
   "outputs": [],
   "source": []
  }
 ],
 "metadata": {
  "kernelspec": {
   "display_name": "Python 3 (ipykernel)",
   "language": "python",
   "name": "python3"
  },
  "language_info": {
   "codemirror_mode": {
    "name": "ipython",
    "version": 3
   },
   "file_extension": ".py",
   "mimetype": "text/x-python",
   "name": "python",
   "nbconvert_exporter": "python",
   "pygments_lexer": "ipython3",
   "version": "3.12.7"
  }
 },
 "nbformat": 4,
 "nbformat_minor": 5
}
